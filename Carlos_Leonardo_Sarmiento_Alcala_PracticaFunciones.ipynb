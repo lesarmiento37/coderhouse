{
 "cells": [
  {
   "cell_type": "code",
   "execution_count": 22,
   "id": "79eaebf0-996e-4e93-b2eb-10f32919eed7",
   "metadata": {},
   "outputs": [
    {
     "name": "stdout",
     "output_type": "stream",
     "text": [
      "Se realiza primera prueba con 5\n",
      "24\n",
      "Se realiza segunda prueba con 6\n",
      "120\n",
      "Se realiza tercera prueba con 10\n",
      "362880\n",
      "Se hace la prueba con número insertado por el usuario\n"
     ]
    },
    {
     "name": "stdin",
     "output_type": "stream",
     "text": [
      " 5\n"
     ]
    },
    {
     "name": "stdout",
     "output_type": "stream",
     "text": [
      "24\n"
     ]
    }
   ],
   "source": [
    "#Se inicia el primer programa:\n",
    "def factorial(num):\n",
    "    fact = 1\n",
    "    for n in range(1,num):\n",
    "        fact *= n\n",
    "    return(fact)\n",
    "print(\"Se realiza primera prueba con 5\")\n",
    "print(factorial(5))\n",
    "print(\"Se realiza segunda prueba con 6\")\n",
    "print(factorial(6))\n",
    "print(\"Se realiza tercera prueba con 10\")\n",
    "print(factorial(10))\n",
    "print(\"Se hace la prueba con número insertado por el usuario\")\n",
    "print(factorial(int(input())))\n",
    "        "
   ]
  },
  {
   "cell_type": "code",
   "execution_count": 44,
   "id": "08210e25-4643-4048-8c05-6a770da37a7d",
   "metadata": {},
   "outputs": [
    {
     "name": "stdout",
     "output_type": "stream",
     "text": [
      "Se realiza primera prueba de 1 a 3\n",
      "6\n",
      "Se realiza segunda prueba de 6 a 12\n",
      "63\n",
      "Se realiza tercera prueba de 15 a 45\n",
      "930\n",
      "Se ingresan numeros de prueba\n"
     ]
    },
    {
     "name": "stdin",
     "output_type": "stream",
     "text": [
      " 6,12\n"
     ]
    },
    {
     "name": "stdout",
     "output_type": "stream",
     "text": [
      "63\n"
     ]
    }
   ],
   "source": [
    "#Se inicia el segundo programa:\n",
    "def sumatoria(num1,num2):\n",
    "    desde = num1\n",
    "    suma = 0\n",
    "    while(desde <= num2):\n",
    "        suma += desde\n",
    "        desde += 1\n",
    "    return(suma)\n",
    "print(\"Se realiza primera prueba de 1 a 3\")\n",
    "print(sumatoria(1,3))\n",
    "print(\"Se realiza segunda prueba de 6 a 12\")\n",
    "print(sumatoria(6,12))\n",
    "print(\"Se realiza tercera prueba de 15 a 45\")\n",
    "print(sumatoria(15,45))\n",
    "#Los números puestos a continuación deben ser ingresados separados por \",\" por ejemplo 1,2\n",
    "print(\"Se ingresan numeros de prueba\")\n",
    "prueba = input().split(\",\")\n",
    "print(sumatoria(int(prueba[0]),int(prueba[1])))\n",
    "            \n",
    "    \n",
    "    "
   ]
  },
  {
   "cell_type": "code",
   "execution_count": null,
   "id": "676c71f0-4f44-4e22-9cab-9da62b5792b3",
   "metadata": {},
   "outputs": [],
   "source": []
  }
 ],
 "metadata": {
  "kernelspec": {
   "display_name": "Python 3 (ipykernel)",
   "language": "python",
   "name": "python3"
  },
  "language_info": {
   "codemirror_mode": {
    "name": "ipython",
    "version": 3
   },
   "file_extension": ".py",
   "mimetype": "text/x-python",
   "name": "python",
   "nbconvert_exporter": "python",
   "pygments_lexer": "ipython3",
   "version": "3.8.5"
  }
 },
 "nbformat": 4,
 "nbformat_minor": 5
}
