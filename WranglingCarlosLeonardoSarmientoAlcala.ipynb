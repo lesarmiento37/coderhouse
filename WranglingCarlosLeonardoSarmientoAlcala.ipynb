{
 "cells": [
  {
   "cell_type": "code",
   "execution_count": 90,
   "metadata": {},
   "outputs": [],
   "source": [
    "import pandas as pd\n",
    "import numpy as np\n",
    "p_data = pd.read_csv(r\"p_data.csv\", sep=';' ,encoding='latin-1')\n",
    "w_data = pd.read_csv(r\"w_data.csv\", sep=';' ,encoding='latin-1')\n"
   ]
  },
  {
   "cell_type": "code",
   "execution_count": 87,
   "metadata": {},
   "outputs": [
    {
     "name": "stdout",
     "output_type": "stream",
     "text": [
      "48842\n",
      "48843\n"
     ]
    }
   ],
   "source": [
    "print(len(p_data))\n",
    "print(len(w_data))"
   ]
  },
  {
   "cell_type": "code",
   "execution_count": 101,
   "metadata": {},
   "outputs": [
    {
     "name": "stdout",
     "output_type": "stream",
     "text": [
      "0                 0\n",
      "48842    1344995623\n",
      "Name: ID, dtype: int32\n"
     ]
    }
   ],
   "source": [
    "#Se imprimen los valores que no coinciden en los dos dataframes\n",
    "df_diff = w_data['ID']-p_data['ID']\n",
    "print(df_diff.drop_duplicates().dropna().astype(int))"
   ]
  },
  {
   "cell_type": "code",
   "execution_count": 107,
   "metadata": {},
   "outputs": [
    {
     "name": "stdout",
     "output_type": "stream",
     "text": [
      "0\n"
     ]
    }
   ],
   "source": [
    "#Se fusionan los dataframes\n",
    "c_data = pd.merge(p_data, w_data, on='ID', how='outer')\n",
    "print(c_data['ID'][48842])\n"
   ]
  },
  {
   "cell_type": "code",
   "execution_count": 112,
   "metadata": {},
   "outputs": [
    {
     "name": "stdout",
     "output_type": "stream",
     "text": [
      " <=50K    37155\n",
      " >50K     11687\n",
      "Name: Target, dtype: int64\n"
     ]
    },
    {
     "name": "stderr",
     "output_type": "stream",
     "text": [
      "C:\\Users\\lesar\\AppData\\Local\\Temp/ipykernel_28228/2100494477.py:4: FutureWarning: The default value of regex will change from True to False in a future version. In addition, single character regular expressions will *not* be treated as literal strings when regex=True.\n",
      "  df[column] = df[column].str.replace('.', '')\n"
     ]
    }
   ],
   "source": [
    "#Se buscan los valores de los dataframes y se corrigen los que no están bien\n",
    "#print(c_data['Target'].value_counts())\n",
    "def target_correcting(df,column):\n",
    "    df[column] = df[column].str.replace('.', '')\n",
    "target_correcting(c_data,'Target')\n",
    "print(c_data['Target'].value_counts())"
   ]
  },
  {
   "cell_type": "code",
   "execution_count": 113,
   "metadata": {},
   "outputs": [
    {
     "name": "stdout",
     "output_type": "stream",
     "text": [
      "Index(['Age', 'Sex', 'ID', 'Race', 'Country', 'Education', 'Education-Num',\n",
      "       'Marital Status', 'Relationship', 'Workclass', 'fnlwgt', 'Capital Gain',\n",
      "       'Capital Loss', 'Hours per week', 'Target'],\n",
      "      dtype='object')\n"
     ]
    }
   ],
   "source": [
    "print(c_data.columns)"
   ]
  },
  {
   "cell_type": "code",
   "execution_count": 122,
   "metadata": {},
   "outputs": [
    {
     "name": "stdout",
     "output_type": "stream",
     "text": [
      "Target  Sex    \n",
      "False    Male      0.668434\n",
      "         Female    0.331504\n",
      "        Male       0.000061\n",
      "Name: Sex, dtype: float64\n"
     ]
    }
   ],
   "source": [
    "#Comparación en proporción de salarios mujeres y hombres mayor a 50k\n",
    "print(c_data['Sex'].groupby(c_data['Target'] == '<=50K').value_counts(normalize = True))"
   ]
  },
  {
   "cell_type": "code",
   "execution_count": 127,
   "metadata": {},
   "outputs": [
    {
     "name": "stdout",
     "output_type": "stream",
     "text": [
      "Target  Race               \n",
      " <=50K   White                 0.838514\n",
      "         Black                 0.110860\n",
      "         Asian-Pac-Islander    0.029875\n",
      "         Amer-Indian-Eskimo    0.011169\n",
      "         Other                 0.009581\n",
      " >50K    White                 0.907582\n",
      "         Black                 0.048434\n",
      "         Asian-Pac-Islander    0.034999\n",
      "         Amer-Indian-Eskimo    0.004706\n",
      "         Other                 0.004279\n",
      "Name: Race, dtype: float64\n"
     ]
    }
   ],
   "source": [
    "#Comparación en proporción de salarios por raza mayores y menores a 50k\n",
    "print(c_data['Race'].groupby(c_data['Target']).value_counts(normalize = True))"
   ]
  },
  {
   "cell_type": "code",
   "execution_count": 128,
   "metadata": {},
   "outputs": [
    {
     "name": "stdout",
     "output_type": "stream",
     "text": [
      "Target  Education    \n",
      " <=50K   HS-grad         0.357449\n",
      "         Some-college    0.237249\n",
      "         Bachelors       0.126820\n",
      "         11th            0.046293\n",
      "         Assoc-voc       0.041421\n",
      "         10th            0.035042\n",
      "         Masters         0.032243\n",
      "         Assoc-acdm      0.031974\n",
      "         7th-8th         0.024034\n",
      "         9th             0.019244\n",
      "         12th            0.016391\n",
      "         5th-6th         0.012973\n",
      "         1st-4th         0.006433\n",
      "         Prof-school     0.005840\n",
      "         Doctorate       0.004387\n",
      "         Preschool       0.002207\n",
      " >50K    Bachelors       0.283416\n",
      "         HS-grad         0.214188\n",
      "         Some-college    0.176536\n",
      "         Masters         0.124850\n",
      "         Prof-school     0.052798\n",
      "         Assoc-voc       0.044669\n",
      "         Doctorate       0.036882\n",
      "         Assoc-acdm      0.035341\n",
      "         11th            0.007873\n",
      "         10th            0.007445\n",
      "         7th-8th         0.005305\n",
      "         12th            0.004107\n",
      "         9th             0.003508\n",
      "         5th-6th         0.002310\n",
      "         1st-4th         0.000685\n",
      "         Preschool       0.000086\n",
      "Name: Education, dtype: float64\n"
     ]
    }
   ],
   "source": [
    "#Comparación en proporción de salarios por educación mayores y menores a 50k\n",
    "print(c_data['Education'].groupby(c_data['Target']).value_counts(normalize = True))"
   ]
  },
  {
   "cell_type": "code",
   "execution_count": 129,
   "metadata": {},
   "outputs": [
    {
     "name": "stdout",
     "output_type": "stream",
     "text": [
      "Target  Marital Status        \n",
      " <=50K   Never-married            0.414049\n",
      "         Married-civ-spouse       0.333602\n",
      "         Divorced                 0.160463\n",
      "         Separated                0.038514\n",
      "         Widowed                  0.037411\n",
      "         Married-spouse-absent    0.015341\n",
      "         Married-AF-spouse        0.000619\n",
      " >50K    Married-civ-spouse       0.854270\n",
      "         Never-married            0.062725\n",
      "         Divorced                 0.057419\n",
      "         Widowed                  0.010953\n",
      "         Separated                0.008472\n",
      "         Married-spouse-absent    0.004963\n",
      "         Married-AF-spouse        0.001198\n",
      "Name: Marital Status, dtype: float64\n"
     ]
    }
   ],
   "source": [
    "#Comparación en proporción de salarios por estado marital mayores y menores a 50k\n",
    "print(c_data['Marital Status'].groupby(c_data['Target']).value_counts(normalize = True))"
   ]
  },
  {
   "cell_type": "code",
   "execution_count": null,
   "metadata": {},
   "outputs": [],
   "source": []
  }
 ],
 "metadata": {
  "interpreter": {
   "hash": "566ab3783c50c69dfbb565006626b684b0ab70c6f4c21aa71d12cb581b9855eb"
  },
  "kernelspec": {
   "display_name": "Python 3.8.5 64-bit",
   "language": "python",
   "name": "python3"
  },
  "language_info": {
   "codemirror_mode": {
    "name": "ipython",
    "version": 3
   },
   "file_extension": ".py",
   "mimetype": "text/x-python",
   "name": "python",
   "nbconvert_exporter": "python",
   "pygments_lexer": "ipython3",
   "version": "3.8.5"
  },
  "orig_nbformat": 4
 },
 "nbformat": 4,
 "nbformat_minor": 2
}
