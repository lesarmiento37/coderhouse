{
 "cells": [
  {
   "cell_type": "code",
   "execution_count": 12,
   "id": "16355270-2dab-4162-bab1-2bd8e0165c54",
   "metadata": {},
   "outputs": [
    {
     "name": "stdout",
     "output_type": "stream",
     "text": [
      "Se imprime el arreglo generado:\n",
      "[[ 3 80 55 41 11 42 26 81 86 90]]\n",
      "Se imprime la mediana del arreglo:\n",
      "48.5\n"
     ]
    }
   ],
   "source": [
    "#Primer Ejercicio\n",
    "import numpy as np\n",
    "array = np.random.randint(100, size=(1,10))\n",
    "print(\"Se imprime el arreglo generado:\")\n",
    "print(array)\n",
    "mediana = np.median(array)\n",
    "print(\"Se imprime la mediana del arreglo:\")\n",
    "print(mediana)"
   ]
  },
  {
   "cell_type": "code",
   "execution_count": 23,
   "id": "39b180f9-44e2-4424-ae2d-2273b6e06928",
   "metadata": {},
   "outputs": [
    {
     "name": "stdout",
     "output_type": "stream",
     "text": [
      "Se hace una primera prueba\n",
      "720\n",
      "Se hace una segunda prueba\n",
      "3628800\n",
      "Se hace una tercera prueba\n",
      "24\n",
      "Ingrese un número para calcular el factorial\n"
     ]
    },
    {
     "name": "stdin",
     "output_type": "stream",
     "text": [
      " 5\n"
     ]
    },
    {
     "data": {
      "text/plain": [
       "120"
      ]
     },
     "execution_count": 23,
     "metadata": {},
     "output_type": "execute_result"
    }
   ],
   "source": [
    "#Ejercicio del factorial\n",
    "import numpy as np\n",
    "def factorial(num):\n",
    "    array = np.arange(1,num + 1)\n",
    "    fact = np.prod(array)\n",
    "    return(fact)\n",
    "print(\"Se hace una primera prueba\")\n",
    "print(factorial(6))\n",
    "print(\"Se hace una segunda prueba\")\n",
    "print(factorial(10))\n",
    "print(\"Se hace una tercera prueba\")\n",
    "print(factorial(4))\n",
    "print(\"Ingrese un número para calcular el factorial\")\n",
    "facto = int(input())\n",
    "factorial(facto)   "
   ]
  },
  {
   "cell_type": "code",
   "execution_count": 82,
   "id": "85763ab6-bcf9-44df-9771-54e2cf17a323",
   "metadata": {},
   "outputs": [
    {
     "name": "stdout",
     "output_type": "stream",
     "text": [
      "Se hace una primera prueba\n",
      "20\n",
      "Se hace una segunda prueba\n",
      "658\n",
      "Se hace una tercera prueba\n",
      "1014\n",
      "Ingrese dos valores ingresados por coma\n"
     ]
    },
    {
     "name": "stdin",
     "output_type": "stream",
     "text": [
      " 2,6\n"
     ]
    },
    {
     "name": "stdout",
     "output_type": "stream",
     "text": [
      "20\n"
     ]
    }
   ],
   "source": [
    "#Ejercicio de la Sumatoria\n",
    "import numpy as np\n",
    "def sumatoria(desde,hasta):\n",
    "    array = np.arange(desde,hasta + 1)\n",
    "    suma = np.sum(array)\n",
    "    return(suma)\n",
    "print(\"Se hace una primera prueba\")\n",
    "print(sumatoria(2,6))\n",
    "print(\"Se hace una segunda prueba\")\n",
    "print(sumatoria(10,37))\n",
    "print(\"Se hace una tercera prueba\")\n",
    "print(sumatoria(7,45))\n",
    "print(\"Ingrese dos valores ingresados por coma\")\n",
    "valores = input().split(\",\")\n",
    "print(sumatoria(int(valores[0]),int(valores[1])))"
   ]
  },
  {
   "cell_type": "code",
   "execution_count": 84,
   "id": "e37ec9ab-3a9e-419c-a231-7e8f83b86aa0",
   "metadata": {},
   "outputs": [
    {
     "name": "stdout",
     "output_type": "stream",
     "text": [
      "[5.1 4.9 4.7 4.6 5.  5.4 4.6 5.  4.4 4.9 5.4 4.8 4.8 4.3 5.8 5.7 5.4 5.1\n",
      " 5.7 5.1 5.4 5.1 4.6 5.1 4.8 5.  5.  5.2 5.2 4.7 4.8 5.4 5.2 5.5 4.9 5.\n",
      " 5.5 4.9 4.4 5.1 5.  4.5 4.4 5.  5.1 4.8 5.1 4.6 5.3 5.  7.  6.4 6.9 5.5\n",
      " 6.5 5.7 6.3 4.9 6.6 5.2 5.  5.9 6.  6.1 5.6 6.7 5.6 5.8 6.2 5.6 5.9 6.1\n",
      " 6.3 6.1 6.4 6.6 6.8 6.7 6.  5.7 5.5 5.5 5.8 6.  5.4 6.  6.7 6.3 5.6 5.5\n",
      " 5.5 6.1 5.8 5.  5.6 5.7 5.7 6.2 5.1 5.7 6.3 5.8 7.1 6.3 6.5 7.6 4.9 7.3\n",
      " 6.7 7.2 6.5 6.4 6.8 5.7 5.8 6.4 6.5 7.7 7.7 6.  6.9 5.6 7.7 6.3 6.7 7.2\n",
      " 6.2 6.1 6.4 7.2 7.4 7.9 6.4 6.3 6.1 7.7 6.3 6.4 6.  6.9 6.7 6.9 5.8 6.8\n",
      " 6.7 6.7 6.3 6.5 6.2 5.9]\n",
      "Se imprime la media\n",
      "5.843333333333334\n",
      "Se imprime la mediana\n",
      "5.8\n"
     ]
    }
   ],
   "source": [
    "import numpy as np\n",
    "import pandas as pd\n",
    "data = pd.read_csv(r\"C:\\Users\\lesar\\projects\\coderhouse\\Iris.csv\")\n",
    "#'C:\\Users\\lesar\\projects\\coderhouse\\prueba.csv'\n",
    "#nombre = data['Salario mensual NETO (en tu moneda local)']\n",
    "nombre = data['SepalLengthCm']\n",
    "datan = nombre.to_numpy()\n",
    "print(datan)\n",
    "#print(\"Se imprime pandas\")\n",
    "#print(np.shape(datan))\n",
    "print(\"Se imprime la media\")\n",
    "media = np.mean(datan)\n",
    "print(media)\n",
    "print(\"Se imprime la mediana\")\n",
    "mediana = np.median(datan)\n",
    "print(mediana)\n"
   ]
  },
  {
   "cell_type": "code",
   "execution_count": null,
   "id": "00e33cef-cd82-445d-9e40-ce8a7b77260b",
   "metadata": {},
   "outputs": [],
   "source": []
  }
 ],
 "metadata": {
  "kernelspec": {
   "display_name": "Python 3 (ipykernel)",
   "language": "python",
   "name": "python3"
  },
  "language_info": {
   "codemirror_mode": {
    "name": "ipython",
    "version": 3
   },
   "file_extension": ".py",
   "mimetype": "text/x-python",
   "name": "python",
   "nbconvert_exporter": "python",
   "pygments_lexer": "ipython3",
   "version": "3.8.5"
  }
 },
 "nbformat": 4,
 "nbformat_minor": 5
}
